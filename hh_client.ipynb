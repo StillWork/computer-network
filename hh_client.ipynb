{
 "cells": [
  {
   "cell_type": "markdown",
   "metadata": {
    "colab_type": "text",
    "id": "lcvr7lTcR3Tb"
   },
   "source": [
    "# 서버의 시각을 읽는 클라이언트\n",
    "- 클라이언트를 여러번 실행해본다.\n",
    "\n",
    "<img src=\"\n",
    "https://www.dropbox.com/s/7feui8zwku0z0mp/%EC%8A%A4%ED%81%AC%EB%A6%B0%EC%83%B7%202019-10-05%20%EC%98%A4%ED%9B%84%207.29.43.jpg?raw=1\" width=\"500\">\n"
   ]
  },
  {
   "cell_type": "code",
   "execution_count": 8,
   "metadata": {
    "colab": {
     "base_uri": "https://localhost:8080/",
     "height": 53
    },
    "colab_type": "code",
    "executionInfo": {
     "elapsed": 666,
     "status": "ok",
     "timestamp": 1566110859999,
     "user": {
      "displayName": "김화종",
      "photoUrl": "https://lh4.googleusercontent.com/-sR-MVK_KsAg/AAAAAAAAAAI/AAAAAAAALbE/3e3Eq9nrGuw/s64/photo.jpg",
      "userId": "17353049580175403985"
     },
     "user_tz": -540
    },
    "id": "G9nLm0_RVYsP",
    "outputId": "b7d9148f-d5b6-4ae9-82b7-de4c73d349a6"
   },
   "outputs": [
    {
     "name": "stdout",
     "output_type": "stream",
     "text": [
      "Hwa-Jongui-MacBook-304.local\n",
      "192.168.0.4\n",
      "서버의 시각 Sat Oct  5 18:49:34 2019\r\n",
      "\n"
     ]
    }
   ],
   "source": [
    "# 서버의 시간 얻기\n",
    "import socket\n",
    "s = socket.socket(socket.AF_INET, socket.SOCK_STREAM) \n",
    "\n",
    "host= socket.gethostname()                           \n",
    "port = 9999\n",
    "print(host)\n",
    "print(socket.gethostbyname(host))\n",
    "# 연결요청\n",
    "s.connect((host, port))                               \n",
    "\n",
    "# 데이터 수신, 1024바이트 이하\n",
    "tm = s.recv(1024)                                     \n",
    "\n",
    "s.close()\n",
    "\n",
    "print(\"서버의 시각 %s\" % tm.decode('ascii'))"
   ]
  },
  {
   "cell_type": "markdown",
   "metadata": {
    "colab_type": "text",
    "id": "NQ0i2WS-lFDe"
   },
   "source": [
    "# 에코 클라이언트"
   ]
  },
  {
   "cell_type": "code",
   "execution_count": 9,
   "metadata": {
    "colab": {
     "base_uri": "https://localhost:8080/",
     "height": 35
    },
    "colab_type": "code",
    "executionInfo": {
     "elapsed": 780,
     "status": "ok",
     "timestamp": 1566112532306,
     "user": {
      "displayName": "김화종",
      "photoUrl": "https://lh4.googleusercontent.com/-sR-MVK_KsAg/AAAAAAAAAAI/AAAAAAAALbE/3e3Eq9nrGuw/s64/photo.jpg",
      "userId": "17353049580175403985"
     },
     "user_tz": -540
    },
    "id": "zt02CBCSYfR9",
    "outputId": "4a4cd878-56f6-4c8c-9457-a0855f197905"
   },
   "outputs": [
    {
     "name": "stdout",
     "output_type": "stream",
     "text": [
      "Received b'Hello, world'\n"
     ]
    }
   ],
   "source": [
    "# 에코 클라이언트\n",
    "import socket\n",
    "\n",
    "host = socket.gethostname()    \n",
    "port = 12345 \n",
    "s = socket.socket(socket.AF_INET, socket.SOCK_STREAM)\n",
    "s.connect((host, port))\n",
    "s.sendall(b'Hello, world')\n",
    "data = s.recv(1024)\n",
    "s.close()\n",
    "print('Received', repr(data))"
   ]
  },
  {
   "cell_type": "markdown",
   "metadata": {
    "colab_type": "text",
    "id": "KX-Mh_fzmHQl"
   },
   "source": [
    "# 파일 전송 클라이언트"
   ]
  },
  {
   "cell_type": "code",
   "execution_count": 31,
   "metadata": {
    "colab": {
     "base_uri": "https://localhost:8080/"
    },
    "colab_type": "code",
    "id": "9ZNxr7s7mKHd",
    "outputId": "e28b79d2-ad9b-483d-b447-72c2e794e866"
   },
   "outputs": [
    {
     "name": "stdout",
     "output_type": "stream",
     "text": [
      "data=%s b'This is the first line\\nThis is the sescond line'\n",
      "connection closed\n"
     ]
    }
   ],
   "source": [
    "import socket                   # Import socket module\n",
    "\n",
    "s = socket.socket()             # Create a socket object\n",
    "host = socket.gethostname()     # Get local machine name\n",
    "port = 9998                    # Reserve a port for your service.\n",
    "\n",
    "s.connect((host, port))\n",
    "s.send(b\"Hello server!\")\n",
    "\n",
    "with open('received_file', 'wb') as f:\n",
    "    data = s.recv(1024)\n",
    "    print('data=%s', data)\n",
    "    f.write(data)\n",
    "f.close()\n",
    "s.close()\n",
    "print('connection closed')\n"
   ]
  },
  {
   "cell_type": "code",
   "execution_count": 32,
   "metadata": {
    "colab": {},
    "colab_type": "code",
    "id": "n6Y4fWn2mgFW"
   },
   "outputs": [
    {
     "name": "stdout",
     "output_type": "stream",
     "text": [
      "This is the first line\r\n",
      "This is the sescond line"
     ]
    }
   ],
   "source": [
    "!head received_file"
   ]
  }
 ],
 "metadata": {
  "colab": {
   "collapsed_sections": [],
   "name": "hh_client.ipynb",
   "provenance": [],
   "version": "0.3.2"
  },
  "kernelspec": {
   "display_name": "Python 3",
   "language": "python",
   "name": "python3"
  },
  "language_info": {
   "codemirror_mode": {
    "name": "ipython",
    "version": 3
   },
   "file_extension": ".py",
   "mimetype": "text/x-python",
   "name": "python",
   "nbconvert_exporter": "python",
   "pygments_lexer": "ipython3",
   "version": "3.6.6"
  }
 },
 "nbformat": 4,
 "nbformat_minor": 1
}
