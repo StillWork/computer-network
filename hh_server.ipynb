{
 "cells": [
  {
   "cell_type": "markdown",
   "metadata": {
    "colab_type": "text",
    "id": "Uz4GqlVjRihs"
   },
   "source": [
    "# 현재 시각을 알려주는 서버\n",
    "### 서버는 계속해서 실행중이다. 정지하려면 Kernel에서 종료한다\n",
    "- socket.socket(): 소켓을 만든다\n",
    "- socket.bind(address): 소켓에 주소를 매핑한다\n",
    "- socket.listen(backlog): 연결요청을 기다린다.\n",
    "- socket.accept(): 연결을 수락한다.\n",
    "- socket.send(bytes[, flags]): 데이터를 보낸다 (리턴 값은 전송된 바이트 수)\n",
    "- socket.colse(): 소켓을 닫는다"
   ]
  },
  {
   "cell_type": "code",
   "execution_count": null,
   "metadata": {
    "colab": {
     "base_uri": "https://localhost:8080/",
     "height": 515
    },
    "colab_type": "code",
    "executionInfo": {
     "elapsed": 540312,
     "status": "error",
     "timestamp": 1566112461115,
     "user": {
      "displayName": "김화종",
      "photoUrl": "https://lh4.googleusercontent.com/-sR-MVK_KsAg/AAAAAAAAAAI/AAAAAAAALbE/3e3Eq9nrGuw/s64/photo.jpg",
      "userId": "17353049580175403985"
     },
     "user_tz": -540
    },
    "id": "VY_hvr2yS6O-",
    "outputId": "a2a76e62-7c65-4fc7-bbea-67e60f70ee92"
   },
   "outputs": [
    {
     "name": "stdout",
     "output_type": "stream",
     "text": [
      "Hwa-Jongui-MacBook-304.local\n",
      "192.168.0.4\n",
      "연결 요청 .... ('192.168.0.4', 64685)\n",
      "연결 요청 .... ('192.168.0.4', 64686)\n",
      "연결 요청 .... ('192.168.0.4', 64687)\n",
      "연결 요청 .... ('192.168.0.4', 64688)\n",
      "연결 요청 .... ('192.168.0.4', 64689)\n",
      "연결 요청 .... ('192.168.0.4', 64690)\n",
      "연결 요청 .... ('192.168.0.4', 64691)\n",
      "연결 요청 .... ('192.168.0.4', 64692)\n"
     ]
    }
   ],
   "source": [
    "import socket                                         \n",
    "import time\n",
    "\n",
    "serversocket = socket.socket(\n",
    "    socket.AF_INET, socket.SOCK_STREAM) \n",
    "\n",
    "host = socket.gethostname() \n",
    "print(host)\n",
    "print(socket.gethostbyname(host))\n",
    "port = 9999                                           \n",
    "serversocket.bind((host, port))                                  \n",
    "\n",
    "# 5개까지 접속 대기\n",
    "serversocket.listen(5)                                           \n",
    "\n",
    "while True:\n",
    "    clientsocket,addr = serversocket.accept()      \n",
    "    print(\"연결 요청 .... %s\" % str(addr))\n",
    "    currentTime = time.ctime(time.time()) + \"\\r\\n\"\n",
    "    clientsocket.send(currentTime.encode('ascii'))\n",
    "    clientsocket.close()"
   ]
  },
  {
   "cell_type": "markdown",
   "metadata": {
    "colab_type": "text",
    "id": "6iWanmr8RhUA"
   },
   "source": [
    "# 에코 서버\n",
    "- 받은 데이터를 다시 전송한다"
   ]
  },
  {
   "cell_type": "code",
   "execution_count": 1,
   "metadata": {
    "colab": {
     "base_uri": "https://localhost:8080/",
     "height": 35
    },
    "colab_type": "code",
    "executionInfo": {
     "elapsed": 5602,
     "status": "ok",
     "timestamp": 1566112532432,
     "user": {
      "displayName": "김화종",
      "photoUrl": "https://lh4.googleusercontent.com/-sR-MVK_KsAg/AAAAAAAAAAI/AAAAAAAALbE/3e3Eq9nrGuw/s64/photo.jpg",
      "userId": "17353049580175403985"
     },
     "user_tz": -540
    },
    "id": "o7O49SgZTW0j",
    "outputId": "3b0fa7a1-ddcd-46f1-c28b-0853be79449a"
   },
   "outputs": [
    {
     "name": "stdout",
     "output_type": "stream",
     "text": [
      "Connected by ('192.168.0.4', 64753)\n"
     ]
    }
   ],
   "source": [
    "import socket\n",
    "\n",
    "s = socket.socket(socket.AF_INET, socket.SOCK_STREAM)\n",
    "host = ''        # 모든 입력을 받아들인다.\n",
    "port = 9998     # Arbitrary non-privileged port\n",
    "s.bind((host, port))\n",
    "s.listen(1)\n",
    "conn, addr = s.accept()\n",
    "print('Connected by', addr)\n",
    "while True:\n",
    "    data = conn.recv(1024)\n",
    "    if not data: break\n",
    "    conn.sendall(data)\n",
    "conn.close()"
   ]
  },
  {
   "cell_type": "markdown",
   "metadata": {
    "colab_type": "text",
    "id": "LGI-gMUJlp-K"
   },
   "source": [
    "# 파일 전송 서버"
   ]
  },
  {
   "cell_type": "code",
   "execution_count": 1,
   "metadata": {
    "colab": {
     "base_uri": "https://localhost:8080/",
     "height": 35
    },
    "colab_type": "code",
    "executionInfo": {
     "elapsed": 757,
     "status": "ok",
     "timestamp": 1566112719374,
     "user": {
      "displayName": "김화종",
      "photoUrl": "https://lh4.googleusercontent.com/-sR-MVK_KsAg/AAAAAAAAAAI/AAAAAAAALbE/3e3Eq9nrGuw/s64/photo.jpg",
      "userId": "17353049580175403985"
     },
     "user_tz": -540
    },
    "id": "UIIdlASRlyuV",
    "outputId": "08641830-4121-41c9-df09-1ccf2f6ec6df"
   },
   "outputs": [
    {
     "name": "stdout",
     "output_type": "stream",
     "text": [
      "Overwriting mytext.txt\n"
     ]
    }
   ],
   "source": [
    "%%writefile mytext.txt\n",
    "This is the first line\n",
    "This is the sescond line"
   ]
  },
  {
   "cell_type": "code",
   "execution_count": 2,
   "metadata": {
    "colab": {
     "base_uri": "https://localhost:8080/",
     "height": 71
    },
    "colab_type": "code",
    "executionInfo": {
     "elapsed": 2962,
     "status": "ok",
     "timestamp": 1566112747656,
     "user": {
      "displayName": "김화종",
      "photoUrl": "https://lh4.googleusercontent.com/-sR-MVK_KsAg/AAAAAAAAAAI/AAAAAAAALbE/3e3Eq9nrGuw/s64/photo.jpg",
      "userId": "17353049580175403985"
     },
     "user_tz": -540
    },
    "id": "0XaqaXzYl7sC",
    "outputId": "814b0f31-a96d-4c1d-e28b-42253f9a9fc6"
   },
   "outputs": [
    {
     "name": "stdout",
     "output_type": "stream",
     "text": [
      "This is the first line\r\n",
      "This is the sescond line"
     ]
    }
   ],
   "source": [
    "!head mytext.txt"
   ]
  },
  {
   "cell_type": "code",
   "execution_count": null,
   "metadata": {
    "colab": {
     "base_uri": "https://localhost:8080/",
     "height": 353
    },
    "colab_type": "code",
    "executionInfo": {
     "elapsed": 29609,
     "status": "error",
     "timestamp": 1566113132958,
     "user": {
      "displayName": "김화종",
      "photoUrl": "https://lh4.googleusercontent.com/-sR-MVK_KsAg/AAAAAAAAAAI/AAAAAAAALbE/3e3Eq9nrGuw/s64/photo.jpg",
      "userId": "17353049580175403985"
     },
     "user_tz": -540
    },
    "id": "nd54WRUdlr1i",
    "outputId": "7df05032-3ed8-4dab-8133-26b8573ae4f0"
   },
   "outputs": [
    {
     "name": "stdout",
     "output_type": "stream",
     "text": [
      "Server listening....\n",
      "Got connection from ('192.168.0.4', 65138)\n",
      "Server received b'Hello server!'\n",
      "Sent  b'This is the first line\\nThis is the sescond line'\n",
      "Done sending\n",
      "Got connection from ('192.168.0.4', 65140)\n",
      "Server received b'Hello server!'\n",
      "Sent  b'This is the first line\\nThis is the sescond line'\n",
      "Done sending\n",
      "Got connection from ('192.168.0.4', 65141)\n",
      "Server received b'Hello server!'\n",
      "Sent  b'This is the first line\\nThis is the sescond line'\n",
      "Done sending\n",
      "Got connection from ('192.168.0.4', 65143)\n",
      "Server received b'Hello server!'\n",
      "Sent  b'This is the first line\\nThis is the sescond line'\n",
      "Done sending\n",
      "Got connection from ('192.168.0.4', 65144)\n",
      "Server received b'Hello server!'\n",
      "Sent  b'This is the first line\\nThis is the sescond line'\n",
      "Done sending\n",
      "Got connection from ('192.168.0.4', 65145)\n",
      "Server received b'Hello server!'\n",
      "Sent  b'This is the first line\\nThis is the sescond line'\n",
      "Done sending\n",
      "Got connection from ('192.168.0.4', 65146)\n",
      "Server received b'Hello server!'\n",
      "Sent  b'This is the first line\\nThis is the sescond line'\n",
      "Done sending\n",
      "Got connection from ('192.168.0.4', 65147)\n",
      "Server received b'Hello server!'\n",
      "Sent  b'This is the first line\\nThis is the sescond line'\n",
      "Done sending\n"
     ]
    }
   ],
   "source": [
    "import socket\n",
    "\n",
    "s = socket.socket()\n",
    "host = socket.gethostname()\n",
    "port = 9997\n",
    "s.bind((host, port)) \n",
    "s.listen(5)          \n",
    "\n",
    "print('Server listening....')\n",
    "\n",
    "while True:\n",
    "    conn, addr = s.accept() \n",
    "    print ('Got connection from', addr)\n",
    "    data = conn.recv(1024)\n",
    "    print('Server received', repr(data))\n",
    "\n",
    "    filename='mytext.txt'\n",
    "    f = open(filename,'rb')\n",
    "    l = f.read(1024)\n",
    "    while (l):\n",
    "       conn.send(l)\n",
    "       print('Sent ',repr(l))\n",
    "       l = f.read(1024)\n",
    "    f.close()\n",
    "\n",
    "    print('Done sending')\n",
    "    conn.close()\n",
    "\n"
   ]
  },
  {
   "cell_type": "code",
   "execution_count": 0,
   "metadata": {
    "colab": {},
    "colab_type": "code",
    "id": "x8mhaocAmVLV"
   },
   "outputs": [],
   "source": []
  }
 ],
 "metadata": {
  "colab": {
   "collapsed_sections": [],
   "name": "hh_server.ipynb",
   "provenance": [],
   "version": "0.3.2"
  },
  "kernelspec": {
   "display_name": "Python 3",
   "language": "python",
   "name": "python3"
  },
  "language_info": {
   "codemirror_mode": {
    "name": "ipython",
    "version": 3
   },
   "file_extension": ".py",
   "mimetype": "text/x-python",
   "name": "python",
   "nbconvert_exporter": "python",
   "pygments_lexer": "ipython3",
   "version": "3.6.6"
  }
 },
 "nbformat": 4,
 "nbformat_minor": 1
}
